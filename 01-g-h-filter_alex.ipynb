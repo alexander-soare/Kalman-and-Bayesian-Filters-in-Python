{
 "cells": [
  {
   "cell_type": "markdown",
   "metadata": {},
   "source": [
    "$$\n",
    "\\text{measurement} - \\text{predicition} = \\text{residual}\n",
    "$$\n",
    "\n",
    "If I want to measure my weight every day with an inaccurate scale, and I also have a biological process model that tells me I should expect to gain 0.1 kg a day I can combine my measurements from the scale and my predictions based on my process model to come up with a better estimate than either of those would provide alone. One way to do that would be to do \n",
    "\n",
    "$$\n",
    "\\text{estimate} = \\text{prediction} + g \\times \\text{residual}\n",
    "$$\n",
    "\n",
    "So we have some weighted blend of the prediction and the measurement.\n",
    "\n",
    "Let's rewrite that in proper notation\n",
    "\n",
    "$$\n",
    "p_k = x_{k-1} + \\dot{x} dt\n",
    "$$\n",
    "\n",
    "$$\n",
    "x_k = p_k + g(z_k - p_k)\n",
    "$$\n",
    "\n",
    "We can do better than this though, because we should also let the measurement trend influence our idea of the weight gain rate.\n",
    "\n",
    "$$\n",
    "\\dot{x}_k = \\dot{x}_{k-1} + h(z_k - p_k) / dt\n",
    "$$\n",
    "\n",
    "This expression wasn't immediately obvious to me. So here's a derivation starting from the normal notion of taking a weighted average:\n",
    "\n",
    "$$\n",
    "\\begin{align}\n",
    "\\dot{x}_k &= \\dot{x}_{k-1} + h((z_k - x_{k-1}) - \\dot{x}_{k-1}dt) / dt \\\\\n",
    "&= \\dot{x}_{k-1} + h(z_k - p_k) / dt \\\\\n",
    "\\end{align}\n",
    "$$\n",
    "\n",
    "in the first line I have set the \"measured rate\" as the difference between the current measured value, and the previous estimated value.\n",
    "\n",
    "So overall the algorithm iterates through\n",
    "\n",
    "Predict:\n",
    "\n",
    "$$\n",
    "p_k = x_{k-1} + \\dot{x}_{k-1} dt\n",
    "$$\n",
    "\n",
    "Update:\n",
    "\n",
    "$$\n",
    "x_k = p_k + g(z_k - p_k)\n",
    "$$\n",
    "\n",
    "$$\n",
    "\\dot{x}_k = \\dot{x}_{k-1} + h(z_k - p_k) / dt\n",
    "$$\n",
    "\n",
    "Apparently, all the other filters in this book are just a flavor of the g-h filter. The only thing that changes is how h and g are set. Above, they are just constants. In fact, the g-h filter is not really a filter, it's a classification for a family of filters."
   ]
  },
  {
   "cell_type": "code",
   "execution_count": 53,
   "metadata": {},
   "outputs": [],
   "source": [
    "import numpy as np\n",
    "import matplotlib.pyplot as plt\n",
    "from matplotlib.ticker import MaxNLocator"
   ]
  },
  {
   "cell_type": "code",
   "execution_count": 77,
   "metadata": {},
   "outputs": [
    {
     "name": "stderr",
     "output_type": "stream",
     "text": [
      "/tmp/ipykernel_78516/3666197489.py:68: UserWarning: marker is redundantly defined by the 'marker' keyword argument and the fmt string \"ko\" (-> marker='o'). The keyword argument will take precedence.\n",
      "  ax.plot(x, ts_measured_weight, 'ko', label=\"Measured\", marker='o')\n"
     ]
    },
    {
     "data": {
      "text/plain": [
       "<matplotlib.legend.Legend at 0x7fab45d7c640>"
      ]
     },
     "execution_count": 77,
     "metadata": {},
     "output_type": "execute_result"
    },
    {
     "data": {
      "image/png": "[encoded data removed]",
      "text/plain": [
       "<Figure size 720x288 with 1 Axes>"
      ]
     },
     "metadata": {
      "needs_background": "light"
     },
     "output_type": "display_data"
    }
   ],
   "source": [
    "# This code implements the h-g filter for the person weighing example.\n",
    "\n",
    "\n",
    "class InaccurateScale:\n",
    "    def __init__(self, stdev):\n",
    "        self.stdev = stdev\n",
    " \n",
    "    def measure(self, true_weight):\n",
    "        return true_weight + np.random.normal(0, self.stdev)\n",
    "\n",
    "\n",
    "def run_experiment(\n",
    "        true_starting_weight, true_daily_weight_gain,\n",
    "        estimated_starting_weight, intial_estimated_daily_weight_gain,\n",
    "        measurement_stdev,\n",
    "        g, h,\n",
    "        num_days,\n",
    "    ):\n",
    "    ts_true_weight = []\n",
    "    ts_measured_weight = []\n",
    "    ts_estimated_weight = []\n",
    "    ts_predicted_weight = []\n",
    "\n",
    "    scale = InaccurateScale(measurement_stdev)\n",
    "\n",
    "    true_weight = true_starting_weight\n",
    "    estimated_daily_weight_gain = intial_estimated_daily_weight_gain\n",
    "\n",
    "    for i in range(num_days):\n",
    "        # Update the true weight gain\n",
    "        if i > 0:\n",
    "            true_weight += true_daily_weight_gain\n",
    "        # Measure the weight using our noisy scale\n",
    "        measured_weight = scale.measure(true_weight)\n",
    "        # Make a preciction of the weight using the process model\n",
    "        if i == 0:\n",
    "            # For the first day we'll use our initial estimate for the starting weight\n",
    "            predicted_weight = estimated_starting_weight\n",
    "        else:\n",
    "            # For subsequent days predict the weight by propagating the previous estimated weight\n",
    "            predicted_weight = estimated_weight + estimated_daily_weight_gain\n",
    "        # Now the residual is the difference between what we measured and what we predicted\n",
    "        residual = measured_weight - predicted_weight\n",
    "        # The new estimated weight gain rate is a weighted blend of our previous estimated weight gain rate\n",
    "        # and what the measurement tells us that the estimated weight gain rate should be\n",
    "        estimated_daily_weight_gain = estimated_daily_weight_gain + h * residual\n",
    "        # The new estimated weight is a weighted blend of the prediction and measurement\n",
    "        estimated_weight = predicted_weight + g * residual\n",
    "        # Update time series\n",
    "        ts_true_weight.append(true_weight)\n",
    "        ts_measured_weight.append(measured_weight)\n",
    "        ts_predicted_weight.append(predicted_weight)\n",
    "        ts_estimated_weight.append(estimated_weight)\n",
    "    return ts_true_weight, ts_measured_weight, ts_predicted_weight, ts_estimated_weight\n",
    "\n",
    "\n",
    "ts_true_weight, ts_measured_weight, ts_predicted_weight, ts_estimated_weight = run_experiment(\n",
    "    true_starting_weight=73, true_daily_weight_gain=0.1,\n",
    "    estimated_starting_weight=72, intial_estimated_daily_weight_gain=-1,\n",
    "    measurement_stdev=0.5,\n",
    "    g=0.4, h=0.33,\n",
    "    num_days=12,\n",
    ")\n",
    "\n",
    "fig, ax = plt.subplots(figsize=(10, 4))\n",
    "x = np.arange(len(ts_true_weight))\n",
    "ax.plot(x, ts_true_weight, 'g,-', label=\"True\")\n",
    "ax.plot(x, ts_measured_weight, 'ko', label=\"Measured\", marker='o')\n",
    "ax.plot(x, ts_predicted_weight, 'rv:', label=\"Predicted\")\n",
    "ax.plot(x, ts_estimated_weight, 'bo-', label=\"Estimated\")\n",
    "ax.grid()\n",
    "ax.xaxis.set_major_locator(MaxNLocator(integer=True))\n",
    "ax.legend()\n"
   ]
  },
  {
   "cell_type": "markdown",
   "metadata": {},
   "source": []
  }
 ],
 "metadata": {
  "interpreter": {
   "hash": "6050d9bfd2fcb1ca8ac8d9d8f2b9c15d7b67eb6846d4d3f06614601d6453a836"
  },
  "kernelspec": {
   "display_name": "Python 3.9.13 ('venv': venv)",
   "language": "python",
   "name": "python3"
  },
  "language_info": {
   "codemirror_mode": {
    "name": "ipython",
    "version": 3
   },
   "file_extension": ".py",
   "mimetype": "text/x-python",
   "name": "python",
   "nbconvert_exporter": "python",
   "pygments_lexer": "ipython3",
   "version": "3.9.13"
  },
  "orig_nbformat": 4
 },
 "nbformat": 4,
 "nbformat_minor": 2
}
