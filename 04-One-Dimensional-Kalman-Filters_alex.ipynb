{
 "cells": [
  {
   "cell_type": "markdown",
   "metadata": {},
   "source": [
    "A Kalman Filter is just a Bayesian Filter that uses Gaussian distributions. Compared to the chapter on discrete Guassian Filters, in this chapter we replace histograms with Gaussians:\n",
    "\n",
    "$$\\begin{array}{l|l|c}\n",
    "\\text{discrete Bayes} & \\text{Gaussian} & \\text{Step}\\\\\n",
    "\\hline\n",
    "\\bar {\\mathbf x} = \\mathbf x \\ast f(\\mathbf x) & \n",
    "\\bar {x}_\\mathcal{N} =  x_\\mathcal{N} \\, \\oplus \\, f_{x_\\mathcal{N}}(\\bullet) &\n",
    "\\text{Predict} \\\\\n",
    "\\mathbf x = \\|\\mathcal L \\bar{\\mathbf x}\\| & x_\\mathcal{N} = L \\, \\times \\, \\bar{x}_\\mathcal{N} & \\text{Update} \n",
    "\\end{array}$$\n",
    "\n",
    "where $\\oplus$ takes two Guassians $\\mathcal{N}_1$ and $\\mathcal{N}_2$ and produces the Gaussian $\\mathcal{N}$ that represents the distibution of $X = X_1 + X_2$ where $X_1 \\sim \\mathcal{N}_1$ and $X_2 \\sim \\mathcal{N}_2$ (recall that this is effectively a convolution), and $\\times$ represents product of Gaussians."
   ]
  },
  {
   "cell_type": "code",
   "execution_count": 1,
   "metadata": {},
   "outputs": [],
   "source": [
    "from collections import namedtuple\n",
    "\n",
    "gaussian = namedtuple('Gaussian', ['mean', 'var'])\n",
    "gaussian.__repr__ = lambda s: f'𝒩(μ={s[0]:.3f}, 𝜎²={s[1]:.3f})'"
   ]
  },
  {
   "cell_type": "markdown",
   "metadata": {},
   "source": [
    "So our predict and update functions looks like"
   ]
  },
  {
   "cell_type": "code",
   "execution_count": 8,
   "metadata": {},
   "outputs": [],
   "source": [
    "def predict(pos: gaussian, movement: gaussian):\n",
    "    return gaussian(pos.mean + movement.mean, pos.var + movement.var)\n",
    "\n",
    "def gaussian_multiply(g1, g2):\n",
    "    mean = (g1.var * g2.mean + g2.var * g1.mean) / (g1.var + g2.var)\n",
    "    variance = (g1.var * g2.var) / (g1.var + g2.var)\n",
    "    return gaussian(mean, variance)\n",
    "\n",
    "def update(prior, likelihood):\n",
    "    posterior = gaussian_multiply(likelihood, prior)\n",
    "    return posterior\n"
   ]
  },
  {
   "cell_type": "markdown",
   "metadata": {},
   "source": [
    "Let's try to use this on the dog"
   ]
  },
  {
   "cell_type": "code",
   "execution_count": 32,
   "metadata": {},
   "outputs": [
    {
     "name": "stdout",
     "output_type": "stream",
     "text": [
      "-----------  ------  ------  ---------  -----\n",
      "Measurement  Prior   Stdev   Posterior  Stdev\n",
      "-0.474       1.000   20.025  -0.467     1.411\n",
      "-1.688       0.533   1.729   -0.798     1.095\n",
      "1.801        0.202   1.483   1.040      1.023\n",
      "3.124        2.040   1.431   2.588      1.006\n",
      "4.111        3.588   1.418   3.851      1.001\n",
      "2.483        4.851   1.415   3.666      1.000\n",
      "3.947        4.666   1.414   4.306      1.000\n",
      "4.779        5.306   1.414   5.043      1.000\n",
      "6.059        6.043   1.414   6.051      1.000\n",
      "6.947        7.051   1.414   6.999      1.000\n",
      "8.807        7.999   1.414   8.403      1.000\n",
      "6.439        9.403   1.414   7.921      1.000\n",
      "11.289       8.921   1.414   10.105     1.000\n",
      "10.540       11.105  1.414   10.822     1.000\n",
      "11.708       11.822  1.414   11.765     1.000\n",
      "12.485       12.765  1.414   12.625     1.000\n",
      "14.786       13.625  1.414   14.206     1.000\n",
      "14.437       15.206  1.414   14.821     1.000\n",
      "14.240       15.821  1.414   15.031     1.000\n",
      "16.287       16.031  1.414   16.159     1.000\n",
      "-----------  ------  ------  ---------  -----\n"
     ]
    }
   ],
   "source": [
    "from kf_book.kf_internal import DogSimulation\n",
    "\n",
    "process_var = 1.  # variance in the dog's movement\n",
    "velocity = 1  # constant velocity for process model\n",
    "dt = 1.  # time step to discretize process model\n",
    "process_model = gaussian(velocity*dt, process_var)  # a constant velocity process model\n",
    "sensor_var = 2.  # variance in the sensor measurement\n",
    "\n",
    "# An initial distrubution for the dog's position\n",
    "x = gaussian(0, 20.**2)  # So basically we're 99.7% sure the dog is within 60 meters of the origin.\n",
    "\n",
    "dog = DogSimulation(\n",
    "    x0=x.mean, \n",
    "    velocity=process_model.mean, \n",
    "    measurement_var=sensor_var, \n",
    "    process_var=process_model.var)\n",
    "\n",
    "# A list of measurements to then be fed into a Kalman filter\n",
    "ts_z = [dog.move_and_sense() for _ in range(20)]\n",
    "\n",
    "# Apply Kalman Filter\n",
    "ts_x_prior = []\n",
    "ts_x = []\n",
    "for z in ts_z:\n",
    "    x_prior = predict(x, process_model)\n",
    "    ts_x_prior.append(x_prior)\n",
    "    x = update(x_prior, gaussian(z, sensor_var))\n",
    "    ts_x.append(x)\n",
    "\n",
    "import math\n",
    "table = [[\"Measurement\", \"Prior\", \"Stdev\", \"Posterior\", \"Stdev\"]] \\\n",
    "         + [[f\"{z:.3f}\", f\"{x_prior.mean:.3f}\", f\"{math.sqrt(x_prior.var):.3f}\", f\"{x.mean:.3f}\", f\"{math.sqrt(x.var):.3f}\"]\n",
    "         for z, x_prior, x in zip(ts_z, ts_x_prior, ts_x)]\n",
    "from tabulate import tabulate\n",
    "print(tabulate(table))"
   ]
  },
  {
   "cell_type": "markdown",
   "metadata": {},
   "source": [
    "Now let's reminder ourselves of the expressions for the mean of product of gaussians:\n",
    "\n",
    "$$\n",
    "\\begin{aligned}\n",
    "\\mu &=\\frac{\\sigma_1^2\\mu_2 + \\sigma_2^2\\mu_1}{\\sigma_1^2+\\sigma_2^2}\\\\\n",
    "&=\\frac{\\sigma_1^2}{\\sigma_1^2+\\sigma_2^2} \\mu_2 + \\frac{\\sigma_2^2}{\\sigma_1^2+\\sigma_2^2} \\mu_1 \\\\\n",
    "&=\\frac{\\bar\\sigma^2}{\\bar\\sigma^2+\\sigma_z^2} \\mu_z + \\frac{\\sigma_z^2}{\\bar\\sigma^2+\\sigma_z^2} \\bar\\mu\n",
    "\\end{aligned}\n",
    "$$\n",
    "\n",
    "where in the last line I've specialized for the Kalman Filter settings with $\\bar\\cdot$ for the prior and $\\cdot_z$ for the measurement. Notice that the coefficents in the second line sum to 1. So when we are updating to get a new estimate we are taking a weighted sum of the sensor mean and the mean of the prior. An easy way to think about it, is that if the variance of the measurement is $r$ times greater than the variance of the prior, we weight the prior $r$ times more than the measurement.\n",
    "\n",
    "We write the \"Kalman gain\" as\n",
    "\n",
    "$$\n",
    "K = \\frac{\\bar\\sigma^2}{\\bar\\sigma^2+\\sigma_z^2}\n",
    "$$\n",
    "\n",
    "we can also express the updated variance in terms of the Kalman gain and measurement variance or prior variance. First recall that for the product of Gaussians:\n",
    "\n",
    "$$\n",
    "\\begin{aligned}\n",
    "\\sigma^2 &=\\frac{\\sigma_1^2\\sigma_2^2}{\\sigma_1^2+\\sigma_2^2} \n",
    "\\end{aligned}\n",
    "$$\n",
    "\n",
    "So casting this into the Kalman Filter setting:\n",
    "\n",
    "$$\n",
    "\\begin{aligned}\n",
    "\\sigma^2 &= \\frac{\\bar\\sigma^2 \\sigma_z^2 } {\\bar\\sigma^2 + \\sigma_z^2} \\\\\n",
    "&= K\\sigma_z^2 \\\\\n",
    "&= (1-K)\\bar\\sigma^2 \n",
    "\\end{aligned}\n",
    "$$\n",
    "\n",
    "Yet another useful way of talking about things is that the Kalman gain is a scale factor that chooses a value along the residual (the residual being the line connecting the prior and the measurement).\n",
    "\n",
    "These equations give rise to the more conventional way of writing a Kalman filter (pay attention to the choice of variable names as these are the most widely used in the literature)"
   ]
  },
  {
   "cell_type": "code",
   "execution_count": 33,
   "metadata": {},
   "outputs": [],
   "source": [
    "def predict(posterior, movement):\n",
    "    x, P = posterior # mean and variance of posterior\n",
    "    dx, Q = movement # mean and variance of movement\n",
    "    x = x + dx\n",
    "    P = P + Q\n",
    "    return gaussian(x, P)\n",
    "\n",
    "\n",
    "def update(prior, measurement):\n",
    "    x, P = prior        # mean and variance of prior\n",
    "    z, R = measurement  # mean and variance of measurement\n",
    "    \n",
    "    y = z - x        # residual\n",
    "    K = P / (P + R)  # Kalman gain (decide how far to interpolate along the residual, small P means we stay close to the prior)\n",
    "\n",
    "    x = x + K*y      # posterior (interpolation of the residual)\n",
    "    P = (1 - K) * P  # posterior variance\n",
    "    return gaussian(x, P)\n",
    "\n",
    "    "
   ]
  },
  {
   "cell_type": "markdown",
   "metadata": {},
   "source": [
    "Exercise: Interactive Plots"
   ]
  },
  {
   "cell_type": "code",
   "execution_count": 43,
   "metadata": {},
   "outputs": [
    {
     "data": {
      "application/vnd.jupyter.widget-view+json": {
       "model_id": "229238e0054a4e84bcc64c3c12146ad3",
       "version_major": 2,
       "version_minor": 0
      },
      "text/plain": [
       "interactive(children=(IntSlider(value=0, description='start_pos', max=10, min=-10), FloatSlider(value=5.0, con…"
      ]
     },
     "metadata": {},
     "output_type": "display_data"
    }
   ],
   "source": [
    "from numpy.random import seed\n",
    "from ipywidgets import interact\n",
    "from kf_book.book_plots import FloatSlider\n",
    "import matplotlib.pyplot as plt\n",
    "\n",
    "\n",
    "def plot_kalman_filter(start_pos, \n",
    "                       sensor_var, \n",
    "                       velocity, \n",
    "                       process_var):\n",
    "    seed(0)\n",
    "    dt = 1.  # time step to discretize process model\n",
    "    process_model = gaussian(velocity*dt, process_var)  # a constant velocity process model\n",
    "\n",
    "    # An initial distrubution for the dog's position\n",
    "    x = gaussian(start_pos, 20.**2)  # So basically we're 99.7% sure the dog is within 60 meters of the origin.\n",
    "\n",
    "    dog = DogSimulation(\n",
    "        x0=x.mean, \n",
    "        velocity=process_model.mean, \n",
    "        measurement_var=sensor_var, \n",
    "        process_var=process_model.var)\n",
    "\n",
    "    # A list of measurements to then be fed into a Kalman filter\n",
    "    ts_z = [dog.move_and_sense() for _ in range(20)]\n",
    "\n",
    "    # Apply Kalman Filter\n",
    "    ts_x_prior = []\n",
    "    ts_x = []\n",
    "    for z in ts_z:\n",
    "        x_prior = predict(x, process_model)\n",
    "        ts_x_prior.append(x_prior)\n",
    "        x = update(x_prior, gaussian(z, sensor_var))\n",
    "        ts_x.append(x)\n",
    "\n",
    "    plt.figure()\n",
    "    plt.plot(ts_z, c='k', marker='o', linestyle='', label='measurement')\n",
    "    plt.plot([x.mean for x in ts_x_prior], marker='^', linestyle='', c='red', alpha=0.7, label='update')\n",
    "    plt.plot([x.mean for x in ts_x], c='#004080', alpha=0.7, label='filter')\n",
    "    plt.legend(loc=4)\n",
    "    plt.grid()\n",
    "    plt.show()\n",
    "    \n",
    "\n",
    "interact(plot_kalman_filter,\n",
    "         start_pos=(-10, 10), \n",
    "         sensor_var=FloatSlider(value=5, min=0, max=100), \n",
    "         velocity=FloatSlider(value=1, min=-2., max=2.), \n",
    "         process_var=FloatSlider(value=5, min=0, max=100.));"
   ]
  },
  {
   "cell_type": "markdown",
   "metadata": {},
   "source": []
  }
 ],
 "metadata": {
  "kernelspec": {
   "display_name": "Python 3.9.13 ('venv': venv)",
   "language": "python",
   "name": "python3"
  },
  "language_info": {
   "codemirror_mode": {
    "name": "ipython",
    "version": 3
   },
   "file_extension": ".py",
   "mimetype": "text/x-python",
   "name": "python",
   "nbconvert_exporter": "python",
   "pygments_lexer": "ipython3",
   "version": "3.9.13"
  },
  "orig_nbformat": 4,
  "vscode": {
   "interpreter": {
    "hash": "6050d9bfd2fcb1ca8ac8d9d8f2b9c15d7b67eb6846d4d3f06614601d6453a836"
   }
  }
 },
 "nbformat": 4,
 "nbformat_minor": 2
}
