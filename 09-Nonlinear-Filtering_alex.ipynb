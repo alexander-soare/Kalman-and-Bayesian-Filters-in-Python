{
 "cells": [
  {
   "cell_type": "markdown",
   "metadata": {},
   "source": [
    "This chapter is short. It points out the issues with having non-linear dynamics. For example, consider a situation in which the process model is non-linear. This means that our assumption that the state is a multi-dimensional gaussian is broken immediately after one time step of the process model. Even a slight non-linearity can have a big impact:\n",
    "\n",
    "![](.images/2022-08-24-14-47-45.png)\n",
    "\n",
    "The next chapters will talk about solutions:\n",
    "\n",
    "1. Extended Kalman filters linearize the dynamics by computing the Jacobian. They still can build up a lot of error though depending on how well the linear approximation works on the time scale.\n",
    "2. Unscented Kalman filters use some other magic that we will learn shortly. They don't rely on linearizing with a Jacobian. In practice the do better than the EKF. They are a relatively recent development.\n",
    "3. Particle filters do away with mathematical modelling. They use monte carlo to model state evolution for many randomly generated points. In each step, points are removed (probabilistically) if they are far from the measurement. The result is a bunch of particles that represent an arbitrary distribution for the state."
   ]
  },
  {
   "cell_type": "markdown",
   "metadata": {},
   "source": []
  }
 ],
 "metadata": {
  "language_info": {
   "name": "python"
  },
  "orig_nbformat": 4
 },
 "nbformat": 4,
 "nbformat_minor": 2
}
